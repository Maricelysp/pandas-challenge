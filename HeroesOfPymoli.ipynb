{
 "cells": [
  {
   "cell_type": "code",
   "execution_count": 2,
   "id": "e1fc3b7d",
   "metadata": {},
   "outputs": [],
   "source": [
    "#Dependencies and setup\n",
    "import pandas as pd"
   ]
  },
  {
   "cell_type": "code",
   "execution_count": 9,
   "id": "90ba3d4d",
   "metadata": {
    "scrolled": false
   },
   "outputs": [
    {
     "data": {
      "text/html": [
       "<div>\n",
       "<style scoped>\n",
       "    .dataframe tbody tr th:only-of-type {\n",
       "        vertical-align: middle;\n",
       "    }\n",
       "\n",
       "    .dataframe tbody tr th {\n",
       "        vertical-align: top;\n",
       "    }\n",
       "\n",
       "    .dataframe thead th {\n",
       "        text-align: right;\n",
       "    }\n",
       "</style>\n",
       "<table border=\"1\" class=\"dataframe\">\n",
       "  <thead>\n",
       "    <tr style=\"text-align: right;\">\n",
       "      <th></th>\n",
       "      <th>Purchase ID</th>\n",
       "      <th>SN</th>\n",
       "      <th>Age</th>\n",
       "      <th>Gender</th>\n",
       "      <th>Item ID</th>\n",
       "      <th>Item Name</th>\n",
       "      <th>Price</th>\n",
       "    </tr>\n",
       "  </thead>\n",
       "  <tbody>\n",
       "    <tr>\n",
       "      <th>0</th>\n",
       "      <td>0</td>\n",
       "      <td>Lisim78</td>\n",
       "      <td>20</td>\n",
       "      <td>Male</td>\n",
       "      <td>108</td>\n",
       "      <td>Extraction, Quickblade Of Trembling Hands</td>\n",
       "      <td>3.53</td>\n",
       "    </tr>\n",
       "    <tr>\n",
       "      <th>1</th>\n",
       "      <td>1</td>\n",
       "      <td>Lisovynya38</td>\n",
       "      <td>40</td>\n",
       "      <td>Male</td>\n",
       "      <td>143</td>\n",
       "      <td>Frenzied Scimitar</td>\n",
       "      <td>1.56</td>\n",
       "    </tr>\n",
       "    <tr>\n",
       "      <th>2</th>\n",
       "      <td>2</td>\n",
       "      <td>Ithergue48</td>\n",
       "      <td>24</td>\n",
       "      <td>Male</td>\n",
       "      <td>92</td>\n",
       "      <td>Final Critic</td>\n",
       "      <td>4.88</td>\n",
       "    </tr>\n",
       "    <tr>\n",
       "      <th>3</th>\n",
       "      <td>3</td>\n",
       "      <td>Chamassasya86</td>\n",
       "      <td>24</td>\n",
       "      <td>Male</td>\n",
       "      <td>100</td>\n",
       "      <td>Blindscythe</td>\n",
       "      <td>3.27</td>\n",
       "    </tr>\n",
       "    <tr>\n",
       "      <th>4</th>\n",
       "      <td>4</td>\n",
       "      <td>Iskosia90</td>\n",
       "      <td>23</td>\n",
       "      <td>Male</td>\n",
       "      <td>131</td>\n",
       "      <td>Fury</td>\n",
       "      <td>1.44</td>\n",
       "    </tr>\n",
       "  </tbody>\n",
       "</table>\n",
       "</div>"
      ],
      "text/plain": [
       "   Purchase ID             SN  Age Gender  Item ID  \\\n",
       "0            0        Lisim78   20   Male      108   \n",
       "1            1    Lisovynya38   40   Male      143   \n",
       "2            2     Ithergue48   24   Male       92   \n",
       "3            3  Chamassasya86   24   Male      100   \n",
       "4            4      Iskosia90   23   Male      131   \n",
       "\n",
       "                                   Item Name  Price  \n",
       "0  Extraction, Quickblade Of Trembling Hands   3.53  \n",
       "1                          Frenzied Scimitar   1.56  \n",
       "2                               Final Critic   4.88  \n",
       "3                                Blindscythe   3.27  \n",
       "4                                       Fury   1.44  "
      ]
     },
     "execution_count": 9,
     "metadata": {},
     "output_type": "execute_result"
    }
   ],
   "source": [
    "# Files to load\n",
    "file_to_load = \"Starter_Data/purchase_data.csv\"\n",
    "\n",
    "# Read and store file into Pandas DF\n",
    "purchase_data = pd.read_csv(file_to_load)\n",
    "purchase_data.head()"
   ]
  },
  {
   "cell_type": "code",
   "execution_count": 12,
   "id": "16e24880",
   "metadata": {
    "scrolled": true
   },
   "outputs": [
    {
     "data": {
      "text/plain": [
       "Purchase ID      int64\n",
       "SN              object\n",
       "Age              int64\n",
       "Gender          object\n",
       "Item ID          int64\n",
       "Item Name       object\n",
       "Price          float64\n",
       "dtype: object"
      ]
     },
     "execution_count": 12,
     "metadata": {},
     "output_type": "execute_result"
    }
   ],
   "source": [
    "purchase_data.dtypes"
   ]
  },
  {
   "cell_type": "markdown",
   "id": "f52d6854",
   "metadata": {},
   "source": [
    "## Player Count \n",
    "___\n",
    "\n",
    "- Display the total number of players"
   ]
  },
  {
   "cell_type": "code",
   "execution_count": 19,
   "id": "c9ea439f",
   "metadata": {
    "scrolled": true
   },
   "outputs": [
    {
     "data": {
      "text/html": [
       "<div>\n",
       "<style scoped>\n",
       "    .dataframe tbody tr th:only-of-type {\n",
       "        vertical-align: middle;\n",
       "    }\n",
       "\n",
       "    .dataframe tbody tr th {\n",
       "        vertical-align: top;\n",
       "    }\n",
       "\n",
       "    .dataframe thead th {\n",
       "        text-align: right;\n",
       "    }\n",
       "</style>\n",
       "<table border=\"1\" class=\"dataframe\">\n",
       "  <thead>\n",
       "    <tr style=\"text-align: right;\">\n",
       "      <th></th>\n",
       "      <th>Total Players</th>\n",
       "    </tr>\n",
       "  </thead>\n",
       "  <tbody>\n",
       "    <tr>\n",
       "      <th>0</th>\n",
       "      <td>576</td>\n",
       "    </tr>\n",
       "  </tbody>\n",
       "</table>\n",
       "</div>"
      ],
      "text/plain": [
       "   Total Players\n",
       "0            576"
      ]
     },
     "execution_count": 19,
     "metadata": {},
     "output_type": "execute_result"
    }
   ],
   "source": [
    "# Counts the number of Unique SN\n",
    "Unique_sn = purchase_data[\"SN\"].unique()\n",
    "Unique_sn\n",
    "\n",
    "#Counts actual total number of players\n",
    "total = len(Unique_sn)\n",
    "\n",
    "#Print Data Frane displaying total number of players\n",
    "player_count = pd.DataFrame({\"Total Players\":[total]})\n",
    "\n",
    "# Display the number of players\n",
    "player_count"
   ]
  },
  {
   "cell_type": "markdown",
   "id": "fb23b278",
   "metadata": {},
   "source": [
    " ## Purchasing Analysis (Total)\n",
    " ___\n",
    "    \n",
    "- Run basic calculations to obtain number of unique items, average price, etc.\n",
    "\n",
    "- Create a summary data frame to hold the results\n",
    "\n",
    "- Optional: give the displayed data cleaner formatting\n",
    "\n",
    "- Display the summary data frame\n",
    "    "
   ]
  },
  {
   "cell_type": "code",
   "execution_count": 51,
   "id": "86accb5e",
   "metadata": {},
   "outputs": [
    {
     "data": {
      "text/html": [
       "<style type=\"text/css\">\n",
       "</style>\n",
       "<table id=\"T_794fc_\">\n",
       "  <thead>\n",
       "    <tr>\n",
       "      <th class=\"blank level0\" >&nbsp;</th>\n",
       "      <th class=\"col_heading level0 col0\" >Number of Unique Items</th>\n",
       "      <th class=\"col_heading level0 col1\" >Average Price</th>\n",
       "      <th class=\"col_heading level0 col2\" >Number of Purchases</th>\n",
       "      <th class=\"col_heading level0 col3\" >Total Revenue</th>\n",
       "    </tr>\n",
       "  </thead>\n",
       "  <tbody>\n",
       "    <tr>\n",
       "      <th id=\"T_794fc_level0_row0\" class=\"row_heading level0 row0\" >0</th>\n",
       "      <td id=\"T_794fc_row0_col0\" class=\"data row0 col0\" >179</td>\n",
       "      <td id=\"T_794fc_row0_col1\" class=\"data row0 col1\" >$3.05</td>\n",
       "      <td id=\"T_794fc_row0_col2\" class=\"data row0 col2\" >780</td>\n",
       "      <td id=\"T_794fc_row0_col3\" class=\"data row0 col3\" >$2,379.77</td>\n",
       "    </tr>\n",
       "  </tbody>\n",
       "</table>\n"
      ],
      "text/plain": [
       "<pandas.io.formats.style.Styler at 0x18d87a313d0>"
      ]
     },
     "execution_count": 51,
     "metadata": {},
     "output_type": "execute_result"
    }
   ],
   "source": [
    "# Determine Stats and store values\n",
    "items = len(purchase_data[\"Item ID\"].value_counts())\n",
    "av_price = purchase_data[\"Price\"].mean()\n",
    "purchases = purchase_data[\"Purchase ID\"].count()\n",
    "total_revenue = purchase_data[\"Price\"].sum()\n",
    "\n",
    "#Create a summary data frame to hold results\n",
    "summarydf = pd.DataFrame({\"Number of Unique Items\":[items],\n",
    "                       \"Average Price\":[av_price],\n",
    "                       \"Number of Purchases\":[purchases],\n",
    "                        \"Total Revenue\":[total_revenue]\n",
    "                       })\n",
    "#format dataframe\n",
    "summarydf.style.format({\"Average Price\":\"${:.2f}\", \"Total Revenue\":\"${:,.2f}\"})\n",
    "\n"
   ]
  },
  {
   "cell_type": "markdown",
   "id": "478ff9cf",
   "metadata": {},
   "source": [
    "### Gender Demographics\n",
    "___\n",
    "- Percentage and Count of Male Players\n",
    "\n",
    "- Percentage and Count of Female Players\n",
    "\n",
    "- Percentage and Count of Other / Non-Disclosed"
   ]
  },
  {
   "cell_type": "code",
   "execution_count": 27,
   "id": "bd5e4a05",
   "metadata": {},
   "outputs": [
    {
     "data": {
      "text/plain": [
       "array(['Male', 'Other / Non-Disclosed', 'Female'], dtype=object)"
      ]
     },
     "execution_count": 27,
     "metadata": {},
     "output_type": "execute_result"
    }
   ],
   "source": [
    "# Unique Value List of \"Gender\"\n",
    "purchase_data[\"Gender\"].unique()"
   ]
  },
  {
   "cell_type": "code",
   "execution_count": 38,
   "id": "960b1b2e",
   "metadata": {},
   "outputs": [
    {
     "data": {
      "text/html": [
       "<div>\n",
       "<style scoped>\n",
       "    .dataframe tbody tr th:only-of-type {\n",
       "        vertical-align: middle;\n",
       "    }\n",
       "\n",
       "    .dataframe tbody tr th {\n",
       "        vertical-align: top;\n",
       "    }\n",
       "\n",
       "    .dataframe thead th {\n",
       "        text-align: right;\n",
       "    }\n",
       "</style>\n",
       "<table border=\"1\" class=\"dataframe\">\n",
       "  <thead>\n",
       "    <tr style=\"text-align: right;\">\n",
       "      <th></th>\n",
       "      <th>Total Count</th>\n",
       "    </tr>\n",
       "    <tr>\n",
       "      <th>Gender</th>\n",
       "      <th></th>\n",
       "    </tr>\n",
       "  </thead>\n",
       "  <tbody>\n",
       "    <tr>\n",
       "      <th>Male</th>\n",
       "      <td>484</td>\n",
       "    </tr>\n",
       "    <tr>\n",
       "      <th>Female</th>\n",
       "      <td>81</td>\n",
       "    </tr>\n",
       "    <tr>\n",
       "      <th>Other / Non-Disclosed</th>\n",
       "      <td>11</td>\n",
       "    </tr>\n",
       "  </tbody>\n",
       "</table>\n",
       "</div>"
      ],
      "text/plain": [
       "                       Total Count\n",
       "Gender                            \n",
       "Male                           484\n",
       "Female                          81\n",
       "Other / Non-Disclosed           11"
      ]
     },
     "execution_count": 38,
     "metadata": {},
     "output_type": "execute_result"
    }
   ],
   "source": [
    "# Count the unique number of players \n",
    "gender_group = purchase_data.groupby(['Gender'])\n",
    "\n",
    "gender_df = pd.DataFrame({\"Total Count\":gender_group['SN'].nunique()})\n",
    "gender_df = gender_df.sort_values(\"Total Count\", ascending=False)\n",
    "gender_df\n",
    "\n",
    "\n"
   ]
  },
  {
   "cell_type": "markdown",
   "id": "5834d8c4",
   "metadata": {},
   "source": [
    "###  Purchasing Analysis (Gender)\n"
   ]
  },
  {
   "cell_type": "markdown",
   "id": "693f8bb1",
   "metadata": {},
   "source": [
    "___\n",
    " \n",
    "- Run basic calculations to obtain purchase count, avg. purchase price, avg. purchase total per person etc. by gender\n",
    "\n",
    "- Create a summary data frame to hold the results\n",
    "\n",
    "- Optional: give the displayed data cleaner formatting\n",
    "\n",
    "- Display the summary data frame"
   ]
  },
  {
   "cell_type": "code",
   "execution_count": 53,
   "id": "5c6f0ffd",
   "metadata": {},
   "outputs": [
    {
     "data": {
      "text/html": [
       "<div>\n",
       "<style scoped>\n",
       "    .dataframe tbody tr th:only-of-type {\n",
       "        vertical-align: middle;\n",
       "    }\n",
       "\n",
       "    .dataframe tbody tr th {\n",
       "        vertical-align: top;\n",
       "    }\n",
       "\n",
       "    .dataframe thead th {\n",
       "        text-align: right;\n",
       "    }\n",
       "</style>\n",
       "<table border=\"1\" class=\"dataframe\">\n",
       "  <thead>\n",
       "    <tr style=\"text-align: right;\">\n",
       "      <th></th>\n",
       "      <th>Purchase Count</th>\n",
       "      <th>Average Purchase Price</th>\n",
       "      <th>Total Purchase Value</th>\n",
       "      <th>Avg Total Purchase per Person</th>\n",
       "    </tr>\n",
       "    <tr>\n",
       "      <th>Gender</th>\n",
       "      <th></th>\n",
       "      <th></th>\n",
       "      <th></th>\n",
       "      <th></th>\n",
       "    </tr>\n",
       "  </thead>\n",
       "  <tbody>\n",
       "    <tr>\n",
       "      <th>Male</th>\n",
       "      <td>652</td>\n",
       "      <td>$3.02</td>\n",
       "      <td>$1,967.64</td>\n",
       "      <td>$4.07</td>\n",
       "    </tr>\n",
       "    <tr>\n",
       "      <th>Female</th>\n",
       "      <td>113</td>\n",
       "      <td>$3.20</td>\n",
       "      <td>$361.94</td>\n",
       "      <td>$4.47</td>\n",
       "    </tr>\n",
       "    <tr>\n",
       "      <th>Other / Non-Disclosed</th>\n",
       "      <td>15</td>\n",
       "      <td>$3.35</td>\n",
       "      <td>$50.19</td>\n",
       "      <td>$4.56</td>\n",
       "    </tr>\n",
       "  </tbody>\n",
       "</table>\n",
       "</div>"
      ],
      "text/plain": [
       "                       Purchase Count Average Purchase Price  \\\n",
       "Gender                                                         \n",
       "Male                              652                  $3.02   \n",
       "Female                            113                  $3.20   \n",
       "Other / Non-Disclosed              15                  $3.35   \n",
       "\n",
       "                      Total Purchase Value Avg Total Purchase per Person  \n",
       "Gender                                                                    \n",
       "Male                             $1,967.64                         $4.07  \n",
       "Female                             $361.94                         $4.47  \n",
       "Other / Non-Disclosed               $50.19                         $4.56  "
      ]
     },
     "execution_count": 53,
     "metadata": {},
     "output_type": "execute_result"
    }
   ],
   "source": [
    "# Declare purchase details per person and by gender\n",
    "purchase_Count = grouped_gender_df[\"Purchase ID\"].count()\n",
    "average_Purchase_Price = grouped_gender_df[\"Price\"].mean()\n",
    "totalPurchase = grouped_gender_df[\"Price\"].sum()\n",
    "avg_Total_Purchase_Person = totalPurchase / genderCount\n",
    "\n",
    "# Create a summary data frame to hold the results\n",
    "gender_purchase_df = pd.DataFrame({\"Purchase Count\": purchase_Count,\n",
    "                                    \"Average Purchase Price\": average_Purchase_Price,\n",
    "                                    \"Total Purchase Value\": totalPurchase,\n",
    "                                    \"Avg Total Purchase per Person\": avgTotalPurchasePerson})\n",
    "\n",
    "# Formatting\n",
    "gender_purchase_df[\"Average Purchase Price\"] = gender_purchase_df[\"Average Purchase Price\"].map(\"${:,.2f}\".format)\n",
    "gender_purchase_df[\"Total Purchase Value\"] = gender_purchase_df[\"Total Purchase Value\"].map(\"${:,.2f}\".format)\n",
    "gender_purchase_df[\"Avg Total Purchase per Person\"] = gender_purchase_df[\"Avg Total Purchase per Person\"].map(\"${:,.2f}\".format)\n",
    "\n",
    "# Display the summary data frame\n",
    "gender_purchase_df[[\"Purchase Count\", \n",
    "                    \"Average Purchase Price\", \n",
    "                    \"Total Purchase Value\", \n",
    "                    \"Avg Total Purchase per Person\"]].sort_values([\"Purchase Count\"], ascending=False)\n"
   ]
  },
  {
   "cell_type": "markdown",
   "id": "ca6c4aaa",
   "metadata": {},
   "source": [
    "### Age Demographics"
   ]
  },
  {
   "cell_type": "markdown",
   "id": "eecdf907",
   "metadata": {},
   "source": [
    "___\n",
    "- Establish bins for ages\n",
    "\n",
    "- Categorize the existing players using the age bins. Hint: use pd.cut()\n",
    "\n",
    "- Calculate the numbers and percentages by age group\n",
    "\n",
    "- Create a summary data frame to hold the results\n",
    "\n",
    "- Optional: round the percentage column to two decimal points\n",
    "\n",
    "- Display Age Demographics Table"
   ]
  },
  {
   "cell_type": "code",
   "execution_count": 54,
   "id": "0979cf78",
   "metadata": {},
   "outputs": [
    {
     "data": {
      "text/html": [
       "<div>\n",
       "<style scoped>\n",
       "    .dataframe tbody tr th:only-of-type {\n",
       "        vertical-align: middle;\n",
       "    }\n",
       "\n",
       "    .dataframe tbody tr th {\n",
       "        vertical-align: top;\n",
       "    }\n",
       "\n",
       "    .dataframe thead th {\n",
       "        text-align: right;\n",
       "    }\n",
       "</style>\n",
       "<table border=\"1\" class=\"dataframe\">\n",
       "  <thead>\n",
       "    <tr style=\"text-align: right;\">\n",
       "      <th></th>\n",
       "      <th>Total Count</th>\n",
       "      <th>Percentage of Players</th>\n",
       "    </tr>\n",
       "    <tr>\n",
       "      <th>Age Ranges</th>\n",
       "      <th></th>\n",
       "      <th></th>\n",
       "    </tr>\n",
       "  </thead>\n",
       "  <tbody>\n",
       "    <tr>\n",
       "      <th>&lt;10</th>\n",
       "      <td>17</td>\n",
       "      <td>2.95%</td>\n",
       "    </tr>\n",
       "    <tr>\n",
       "      <th>10-14</th>\n",
       "      <td>22</td>\n",
       "      <td>3.82%</td>\n",
       "    </tr>\n",
       "    <tr>\n",
       "      <th>15-19</th>\n",
       "      <td>107</td>\n",
       "      <td>18.58%</td>\n",
       "    </tr>\n",
       "    <tr>\n",
       "      <th>20-24</th>\n",
       "      <td>258</td>\n",
       "      <td>44.79%</td>\n",
       "    </tr>\n",
       "    <tr>\n",
       "      <th>25-29</th>\n",
       "      <td>77</td>\n",
       "      <td>13.37%</td>\n",
       "    </tr>\n",
       "    <tr>\n",
       "      <th>30-34</th>\n",
       "      <td>52</td>\n",
       "      <td>9.03%</td>\n",
       "    </tr>\n",
       "    <tr>\n",
       "      <th>35-39</th>\n",
       "      <td>31</td>\n",
       "      <td>5.38%</td>\n",
       "    </tr>\n",
       "    <tr>\n",
       "      <th>40+</th>\n",
       "      <td>12</td>\n",
       "      <td>2.08%</td>\n",
       "    </tr>\n",
       "  </tbody>\n",
       "</table>\n",
       "</div>"
      ],
      "text/plain": [
       "            Total Count Percentage of Players\n",
       "Age Ranges                                   \n",
       "<10                  17                 2.95%\n",
       "10-14                22                 3.82%\n",
       "15-19               107                18.58%\n",
       "20-24               258                44.79%\n",
       "25-29                77                13.37%\n",
       "30-34                52                 9.03%\n",
       "35-39                31                 5.38%\n",
       "40+                  12                 2.08%"
      ]
     },
     "execution_count": 54,
     "metadata": {},
     "output_type": "execute_result"
    }
   ],
   "source": [
    "# Establish bins for ages\n",
    "max_range = purchase_data[\"Age\"].max()\n",
    "bins = [0, 9, 14, 19, 24, 29, 34, 39, max_range]\n",
    "labels = [\"<10\", \"10-14\", \"15-19\", \"20-24\", \"25-29\", \"30-34\", \"35-39\", \"40+\"]\n",
    "\n",
    "# Create sub-data frame with just SN and Age information\n",
    "player_details = purchase_data[[\"SN\", \"Age\"]]\n",
    "\n",
    "# Drop duplicated rows to keep only unique SN in new data frame\n",
    "player_details = player_details.drop_duplicates(subset=\"SN\", keep=\"first\")\n",
    "\n",
    "# Categorize the existing players using the age bins using the cut function\n",
    "player_details[\"Age Ranges\"] = pd.cut(df_player_age_dem[\"Age\"], bins, labels=labels, include_lowest=True)\n",
    "\n",
    "# Create a summary table with the count of unique SN by age ranges using groupby function\n",
    "summary_byage = player_details.groupby([\"Age Ranges\"]).count()\n",
    "\n",
    "# Rename the column SN as Total Count\n",
    "summary_byage = summary_byage.rename(columns={\"SN\": \"Total Count\"})\n",
    "\n",
    "# Delete the Age column from the summary table\n",
    "summary_byage = summary_byage.drop(columns=[\"Age\"])\n",
    "\n",
    "# Percentage of players can be found by taking the count of players by age ranges and dividing with total number of players\n",
    "percentage_age = summary_byage / summary_byage.sum() * 100\n",
    "\n",
    "# Add the percentage of players data as a new column into the summary table\n",
    "summary_byage[\"Percentage of Players\"] = percentage_age\n",
    "\n",
    "# Format the percentage data accordingly\n",
    "summary_byage[\"Percentage of Players\"] = summary_byage[\"Percentage of Players\"].map('{:,.2f}%'.format)\n",
    "\n",
    "# To display the summary data frame\n",
    "summary_byage\n"
   ]
  },
  {
   "cell_type": "markdown",
   "id": "c97b35c0",
   "metadata": {},
   "source": [
    "###  Purchasing Analysis (Age)"
   ]
  },
  {
   "cell_type": "markdown",
   "id": "118a6ec5",
   "metadata": {},
   "source": [
    "___\n",
    "- Bin the purchase_data data frame by age\n",
    "\n",
    "- Run basic calculations to obtain purchase count, avg. purchase price, avg. purchase total per person etc. in the table below\n",
    "\n",
    "- Create a summary data frame to hold the results\n",
    "\n",
    "- Optional: give the displayed data cleaner formatting\n",
    "\n",
    "- Display the summary data frame"
   ]
  },
  {
   "cell_type": "code",
   "execution_count": null,
   "id": "0d86e7e4",
   "metadata": {
    "scrolled": true
   },
   "outputs": [],
   "source": []
  },
  {
   "cell_type": "code",
   "execution_count": null,
   "id": "81a2c8a0",
   "metadata": {
    "scrolled": true
   },
   "outputs": [],
   "source": []
  },
  {
   "cell_type": "code",
   "execution_count": null,
   "id": "5812f408",
   "metadata": {},
   "outputs": [],
   "source": []
  },
  {
   "cell_type": "code",
   "execution_count": null,
   "id": "2d2f5235",
   "metadata": {},
   "outputs": [],
   "source": []
  },
  {
   "cell_type": "markdown",
   "id": "7e32a9c7",
   "metadata": {},
   "source": [
    "#### Observable Trends:\n",
    "___\n",
    "\n",
    "- Although 84% of video game players points to being male, Data shows females and undisclosed genders spent more on video game purchases with had a higher purchase price\n",
    "\n",
    "- The most typical video game player age range from 20-24 with the 2nd most purchased video games coming from the age range 15-19. At this age range Data also showed the most purchases. \n",
    "    \n",
    "    "
   ]
  },
  {
   "cell_type": "code",
   "execution_count": null,
   "id": "e165d50e",
   "metadata": {},
   "outputs": [],
   "source": []
  }
 ],
 "metadata": {
  "kernelspec": {
   "display_name": "Python 3 (ipykernel)",
   "language": "python",
   "name": "python3"
  },
  "language_info": {
   "codemirror_mode": {
    "name": "ipython",
    "version": 3
   },
   "file_extension": ".py",
   "mimetype": "text/x-python",
   "name": "python",
   "nbconvert_exporter": "python",
   "pygments_lexer": "ipython3",
   "version": "3.9.7"
  }
 },
 "nbformat": 4,
 "nbformat_minor": 5
}
